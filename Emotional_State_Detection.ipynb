{
 "cells": [
  {
   "cell_type": "markdown",
   "id": "c717ba30-41c5-4e57-8c31-f6de2b5d438c",
   "metadata": {},
   "source": [
    "This project aims to perform image classification on at least one dataset of facial images to detect the emotional state of the individual in the image."
   ]
  },
  {
   "cell_type": "code",
   "execution_count": 25,
   "id": "38c42d54-c686-444d-a2d2-0b6b2747da8e",
   "metadata": {},
   "outputs": [],
   "source": [
    "import pandas as pd\n",
    "import numpy as np\n",
    "import matplotlib.pyplot as plt\n",
    "import matplotlib.image as mpimg\n",
    "import seaborn as sns\n",
    "%matplotlib inline\n",
    "\n",
    "import tensorflow as tf\n",
    "from tensorflow import keras\n",
    "from tensorflow.keras.models import Sequential\n",
    "from tensorflow.keras.layers import Activation, Dense, BatchNormalization, Conv2D, MaxPool2D, Dropout, Flatten\n",
    "from tensorflow.keras.optimizers import Adam\n",
    "from tensorflow.keras.metrics import categorical_crossentropy\n",
    "from tensorflow.keras.preprocessing.image import ImageDataGenerator, load_img, array_to_img, img_to_array\n",
    "from sklearn.metrics import confusion_matrix, ConfusionMatrixDisplay\n",
    "from tensorflow.keras import datasets, layers, models\n",
    "from keras.regularizers import l2\n",
    "from keras.callbacks import ModelCheckpoint\n",
    "from keras.models import Sequential, load_model, Model\n",
    "from keras.layers import Input, Conv2D, MaxPooling2D, AveragePooling2D, Flatten, GlobalAveragePooling2D, Dense, Dropout\n",
    "from keras.layers.merge import concatenate\n",
    "\n",
    "import os\n",
    "\n",
    "from PIL import Image\n",
    "\n",
    "import random"
   ]
  },
  {
   "cell_type": "code",
   "execution_count": 35,
   "id": "2fd94a38-11ea-4b44-b73c-6e7c00b9c02e",
   "metadata": {},
   "outputs": [
    {
     "name": "stdout",
     "output_type": "stream",
     "text": [
      "Note: you may need to restart the kernel to use updated packages.Collecting split-folders\n",
      "\n",
      "  Downloading split_folders-0.5.1-py3-none-any.whl (8.4 kB)\n",
      "Installing collected packages: split-folders\n",
      "Successfully installed split-folders-0.5.1\n"
     ]
    }
   ],
   "source": [
    "pip install split-folders"
   ]
  },
  {
   "cell_type": "markdown",
   "id": "413777a4-f58e-4951-9b68-9936f4adca84",
   "metadata": {},
   "source": [
    "## How to Upload the Data"
   ]
  },
  {
   "cell_type": "code",
   "execution_count": 37,
   "id": "3cff0efa-b9a9-4aae-bb60-76ad4e589d0a",
   "metadata": {},
   "outputs": [],
   "source": [
    "# import splitfolders\n",
    "# splitfolders.ratio('data', output='output', seed=11037, ratio=(0.8, 0.1, 0.1))"
   ]
  },
  {
   "cell_type": "code",
   "execution_count": null,
   "id": "d7981f89-0bca-4aa5-a982-b2c12775ec4a",
   "metadata": {},
   "outputs": [],
   "source": []
  },
  {
   "cell_type": "code",
   "execution_count": null,
   "id": "174a0390-7fbd-4000-b724-ff32994296d2",
   "metadata": {},
   "outputs": [],
   "source": []
  },
  {
   "cell_type": "code",
   "execution_count": 38,
   "id": "1a9e9663-20c8-43d2-accd-b82a025b12e0",
   "metadata": {},
   "outputs": [
    {
     "name": "stdout",
     "output_type": "stream",
     "text": [
      "Found 25832 images belonging to 7 classes.\n",
      "Found 7178 images belonging to 7 classes.\n",
      "Found 2877 images belonging to 7 classes.\n"
     ]
    }
   ],
   "source": [
    "train_dir = 'data/train'\n",
    "test_dir = 'data/test'\n",
    "val_dir = 'data/val'\n",
    "\n",
    "train_generator = ImageDataGenerator().flow_from_directory(train_dir, target_size=(48, 48), batch_size=25832)\n",
    "\n",
    "test_generator = ImageDataGenerator().flow_from_directory(test_dir, target_size=(48, 48), batch_size=7178)\n",
    "\n",
    "val_generator = ImageDataGenerator().flow_from_directory(val_dir, target_size=(48, 48), batch_size=2877)"
   ]
  },
  {
   "cell_type": "code",
   "execution_count": 39,
   "id": "293d3a57-505b-441e-8f9e-9963393a474a",
   "metadata": {},
   "outputs": [],
   "source": [
    "train_images, train_labels = next(train_generator)\n",
    "test_images, test_labels = next(test_generator)\n",
    "val_images, val_labels = next(val_generator)"
   ]
  },
  {
   "cell_type": "code",
   "execution_count": 41,
   "id": "748095b7-4598-4f93-87b0-829e58119247",
   "metadata": {},
   "outputs": [
    {
     "data": {
      "image/png": "[encoded data removed]",
      "text/plain": [
       "<PIL.Image.Image image mode=RGB size=48x48 at 0x20D6AB4B250>"
      ]
     },
     "execution_count": 41,
     "metadata": {},
     "output_type": "execute_result"
    }
   ],
   "source": [
    "array_to_img(train_images[0])"
   ]
  },
  {
   "cell_type": "code",
   "execution_count": 42,
   "id": "9192cb80-2c97-45ef-9484-3f5d8efc1c34",
   "metadata": {},
   "outputs": [
    {
     "data": {
      "image/png": "[encoded data removed]",
      "text/plain": [
       "<PIL.Image.Image image mode=RGB size=48x48 at 0x20D68396B20>"
      ]
     },
     "execution_count": 42,
     "metadata": {},
     "output_type": "execute_result"
    }
   ],
   "source": [
    "array_to_img(train_images[5])"
   ]
  },
  {
   "cell_type": "code",
   "execution_count": 40,
   "id": "538cb8a0-cacb-4b3f-82ec-368913911402",
   "metadata": {},
   "outputs": [
    {
     "name": "stdout",
     "output_type": "stream",
     "text": [
      "(25832, 48, 48, 3)\n",
      "(25832, 7)\n",
      "(7178, 48, 48, 3)\n",
      "(7178, 7)\n",
      "(2877, 48, 48, 3)\n",
      "(2877, 7)\n"
     ]
    }
   ],
   "source": [
    "arrays = [train_images, train_labels, test_images, test_labels, val_images, val_labels]\n",
    "\n",
    "for array in arrays:\n",
    "    print(np.shape(array))"
   ]
  },
  {
   "cell_type": "code",
   "execution_count": 13,
   "id": "33ed2fb4-862a-4db2-9615-7f0a74addfb1",
   "metadata": {},
   "outputs": [
    {
     "data": {
      "text/plain": [
       "array([0., 0., 0., 0., 0., 0., 1., 0.], dtype=float32)"
      ]
     },
     "execution_count": 13,
     "metadata": {},
     "output_type": "execute_result"
    }
   ],
   "source": [
    "train_labels[0]"
   ]
  },
  {
   "cell_type": "code",
   "execution_count": 18,
   "id": "c4abcaf0-d4e5-4238-9a59-f0a83924729b",
   "metadata": {},
   "outputs": [
    {
     "data": {
      "text/plain": [
       "{'angry': 0,\n",
       " 'disgusted': 1,\n",
       " 'fearful': 2,\n",
       " 'happy': 3,\n",
       " 'neutral': 4,\n",
       " 'sad': 5,\n",
       " 'surprised': 6}"
      ]
     },
     "execution_count": 18,
     "metadata": {},
     "output_type": "execute_result"
    }
   ],
   "source": [
    "train_generator.class_indices"
   ]
  },
  {
   "cell_type": "code",
   "execution_count": 53,
   "id": "00f3eacb-b43c-4a57-a754-ed4de9a281d3",
   "metadata": {},
   "outputs": [],
   "source": [
    "train_img = train_images.reshape(train_images.shape[0], -1)\n",
    "test_img = test_images.reshape(test_images.shape[0], -1)\n",
    "val_img = val_images.reshape(val_images.shape[0], -1)"
   ]
  },
  {
   "cell_type": "code",
   "execution_count": 54,
   "id": "066f6da6-a186-4355-9832-6cc2ce200f6d",
   "metadata": {},
   "outputs": [
    {
     "data": {
      "text/plain": [
       "(7178, 6912)"
      ]
     },
     "execution_count": 54,
     "metadata": {},
     "output_type": "execute_result"
    }
   ],
   "source": [
    "test_img.shape"
   ]
  },
  {
   "cell_type": "code",
   "execution_count": 44,
   "id": "483ee652-cecf-4d96-bef5-f0fa73f86ae4",
   "metadata": {},
   "outputs": [],
   "source": [
    "train_y = np.reshape(train_labels[:,0], (25832,1))\n",
    "test_y = np.reshape(test_labels[:,0], (7178,1))\n",
    "val_y = np.reshape(val_labels[:,0], (2877,1))"
   ]
  },
  {
   "cell_type": "code",
   "execution_count": null,
   "id": "38b9268b-80ed-401c-83e0-eebf2e23c1ca",
   "metadata": {},
   "outputs": [],
   "source": [
    "fig, ax = plt.subplots(1, 3, figsize=(15, 10))\n",
    "\n",
    "sample_angry = random.choice(os.listdir(train_dir + \"paper\"))\n",
    "image = load_img(train_dir + \"paper/\" + sample_paper)\n",
    "ax[0].imshow(image)\n",
    "ax[0].set_title(\"Paper\")\n",
    "ax[0].axis(\"Off\")"
   ]
  },
  {
   "cell_type": "markdown",
   "id": "bba62912-523a-48fe-81c8-dbced3dd1c94",
   "metadata": {},
   "source": [
    "### Another Way to Upload the Data"
   ]
  },
  {
   "cell_type": "code",
   "execution_count": 27,
   "id": "62fb4c46-3368-430a-b7c5-4e633eb4d01d",
   "metadata": {},
   "outputs": [
    {
     "name": "stdout",
     "output_type": "stream",
     "text": [
      "Train set -->  ['angry', 'disgusted', 'fearful', 'happy', 'neutral', 'sad', 'surprised']\n",
      "Test set -->  ['angry', 'disgusted', 'fearful', 'happy', 'neutral', 'sad', 'surprised']\n"
     ]
    }
   ],
   "source": [
    "base_dir = os.path.join(\"data/\")\n",
    "\n",
    "# Train set\n",
    "train_dir = os.path.join(base_dir + \"train/\")\n",
    "print(\"Train set --> \", os.listdir(train_dir))\n",
    "\n",
    "# Test set\n",
    "test_dir = os.path.join(base_dir + \"test/\")\n",
    "print(\"Test set --> \", os.listdir(test_dir))"
   ]
  },
  {
   "cell_type": "code",
   "execution_count": 30,
   "id": "c29ce1a9-3a81-4eb2-8256-137ecf88fda8",
   "metadata": {},
   "outputs": [
    {
     "data": {
      "image/png": "[encoded data removed]",
      "text/plain": [
       "<Figure size 360x216 with 3 Axes>"
      ]
     },
     "metadata": {
      "needs_background": "light"
     },
     "output_type": "display_data"
    }
   ],
   "source": [
    "fig, ax = plt.subplots(1, 3, figsize=(5, 3))\n",
    "\n",
    "sample_angry = random.choice(os.listdir(train_dir + \"angry\"))\n",
    "image = load_img(train_dir + \"angry/\" + sample_angry)\n",
    "ax[0].imshow(image)\n",
    "ax[0].set_title(\"Angry\")\n",
    "ax[0].axis(\"Off\")\n",
    "\n",
    "sample_disgusted = random.choice(os.listdir(train_dir + \"disgusted\"))\n",
    "image = load_img(train_dir + \"disgusted/\" + sample_disgusted)\n",
    "ax[1].imshow(image)\n",
    "ax[1].set_title(\"Disgusted\")\n",
    "ax[1].axis(\"Off\")\n",
    "\n",
    "sample_fearful = random.choice(os.listdir(train_dir + \"fearful\"))\n",
    "image = load_img(train_dir + \"fearful/\" + sample_fearful)\n",
    "ax[2].imshow(image)\n",
    "ax[2].set_title(\"Fearful\")\n",
    "ax[2].axis(\"Off\")\n",
    "\n",
    "plt.show()"
   ]
  },
  {
   "cell_type": "markdown",
   "id": "2bf05147-1f43-49f6-b6ac-2a1bffe7e399",
   "metadata": {},
   "source": [
    "# Baseline Model"
   ]
  },
  {
   "cell_type": "code",
   "execution_count": 46,
   "id": "bd5c381c-60e6-4d29-b6c7-86eee014fdb4",
   "metadata": {},
   "outputs": [],
   "source": [
    "model = models.Sequential()\n",
    "model.add(layers.Dense(20, activation='relu', input_shape=(6912,))) # 2 hidden layers\n",
    "model.add(layers.Dense(7, activation='relu'))\n",
    "model.add(layers.Dense(5, activation='relu'))\n",
    "model.add(layers.Dense(1, activation='sigmoid'))"
   ]
  },
  {
   "cell_type": "code",
   "execution_count": 47,
   "id": "cf823a73-533d-4820-86d7-47a621ac3a94",
   "metadata": {},
   "outputs": [],
   "source": [
    "model.compile(optimizer='adam',\n",
    "              loss='binary_crossentropy',\n",
    "              metrics=['accuracy'])"
   ]
  },
  {
   "cell_type": "code",
   "execution_count": 48,
   "id": "89c01b0a-14b1-42cb-aa39-5ed47d693bd8",
   "metadata": {
    "collapsed": true,
    "jupyter": {
     "outputs_hidden": true
    },
    "tags": []
   },
   "outputs": [
    {
     "name": "stdout",
     "output_type": "stream",
     "text": [
      "Epoch 1/100\n",
      "646/646 [==============================] - 6s 9ms/step - loss: 3.2017 - accuracy: 0.8560 - val_loss: 0.5332 - val_accuracy: 0.8610\n",
      "Epoch 2/100\n",
      "646/646 [==============================] - 4s 6ms/step - loss: 0.4888 - accuracy: 0.8608 - val_loss: 0.4546 - val_accuracy: 0.8610\n",
      "Epoch 3/100\n",
      "646/646 [==============================] - 4s 6ms/step - loss: 0.4356 - accuracy: 0.8608 - val_loss: 0.4212 - val_accuracy: 0.8610\n",
      "Epoch 4/100\n",
      "646/646 [==============================] - 4s 6ms/step - loss: 0.4139 - accuracy: 0.8608 - val_loss: 0.4084 - val_accuracy: 0.8610\n",
      "Epoch 5/100\n",
      "646/646 [==============================] - 4s 6ms/step - loss: 0.4062 - accuracy: 0.8608 - val_loss: 0.4044 - val_accuracy: 0.8610\n",
      "Epoch 6/100\n",
      "646/646 [==============================] - 4s 6ms/step - loss: 0.4040 - accuracy: 0.8608 - val_loss: 0.4034 - val_accuracy: 0.8610\n",
      "Epoch 7/100\n",
      "646/646 [==============================] - 4s 6ms/step - loss: 0.4036 - accuracy: 0.8608 - val_loss: 0.4032 - val_accuracy: 0.8610\n",
      "Epoch 8/100\n",
      "646/646 [==============================] - 4s 7ms/step - loss: 0.4035 - accuracy: 0.8608 - val_loss: 0.4032 - val_accuracy: 0.8610\n",
      "Epoch 9/100\n",
      "646/646 [==============================] - 5s 8ms/step - loss: 0.4035 - accuracy: 0.8608 - val_loss: 0.4032 - val_accuracy: 0.8610\n",
      "Epoch 10/100\n",
      "646/646 [==============================] - 4s 7ms/step - loss: 0.4035 - accuracy: 0.8608 - val_loss: 0.4032 - val_accuracy: 0.8610\n",
      "Epoch 11/100\n",
      "646/646 [==============================] - 4s 6ms/step - loss: 0.4035 - accuracy: 0.8608 - val_loss: 0.4032 - val_accuracy: 0.8610\n",
      "Epoch 12/100\n",
      "646/646 [==============================] - 4s 6ms/step - loss: 0.4035 - accuracy: 0.8608 - val_loss: 0.4032 - val_accuracy: 0.8610\n",
      "Epoch 13/100\n",
      "646/646 [==============================] - 4s 6ms/step - loss: 0.4035 - accuracy: 0.8608 - val_loss: 0.4032 - val_accuracy: 0.8610\n",
      "Epoch 14/100\n",
      "646/646 [==============================] - 4s 7ms/step - loss: 0.4035 - accuracy: 0.8608 - val_loss: 0.4032 - val_accuracy: 0.8610\n",
      "Epoch 15/100\n",
      "646/646 [==============================] - 4s 6ms/step - loss: 0.4035 - accuracy: 0.8608 - val_loss: 0.4032 - val_accuracy: 0.8610\n",
      "Epoch 16/100\n",
      "646/646 [==============================] - 4s 6ms/step - loss: 0.4035 - accuracy: 0.8608 - val_loss: 0.4032 - val_accuracy: 0.8610\n",
      "Epoch 17/100\n",
      "646/646 [==============================] - 4s 6ms/step - loss: 0.4035 - accuracy: 0.8608 - val_loss: 0.4032 - val_accuracy: 0.8610\n",
      "Epoch 18/100\n",
      "646/646 [==============================] - 4s 6ms/step - loss: 0.4035 - accuracy: 0.8608 - val_loss: 0.4032 - val_accuracy: 0.8610\n",
      "Epoch 19/100\n",
      "646/646 [==============================] - 5s 7ms/step - loss: 0.4035 - accuracy: 0.8608 - val_loss: 0.4032 - val_accuracy: 0.8610\n",
      "Epoch 20/100\n",
      "646/646 [==============================] - 4s 6ms/step - loss: 0.4035 - accuracy: 0.8608 - val_loss: 0.4032 - val_accuracy: 0.8610\n",
      "Epoch 21/100\n",
      "646/646 [==============================] - 4s 7ms/step - loss: 0.4035 - accuracy: 0.8608 - val_loss: 0.4032 - val_accuracy: 0.8610\n",
      "Epoch 22/100\n",
      "646/646 [==============================] - 4s 7ms/step - loss: 0.4035 - accuracy: 0.8608 - val_loss: 0.4032 - val_accuracy: 0.8610\n",
      "Epoch 23/100\n",
      "646/646 [==============================] - 4s 7ms/step - loss: 0.4035 - accuracy: 0.8608 - val_loss: 0.4032 - val_accuracy: 0.8610\n",
      "Epoch 24/100\n",
      "646/646 [==============================] - 4s 7ms/step - loss: 0.4035 - accuracy: 0.8608 - val_loss: 0.4032 - val_accuracy: 0.8610\n",
      "Epoch 25/100\n",
      "646/646 [==============================] - 4s 7ms/step - loss: 0.4035 - accuracy: 0.8608 - val_loss: 0.4032 - val_accuracy: 0.8610\n",
      "Epoch 26/100\n",
      "646/646 [==============================] - 4s 7ms/step - loss: 0.4035 - accuracy: 0.8608 - val_loss: 0.4032 - val_accuracy: 0.8610\n",
      "Epoch 27/100\n",
      "646/646 [==============================] - 5s 7ms/step - loss: 0.4035 - accuracy: 0.8608 - val_loss: 0.4032 - val_accuracy: 0.8610\n",
      "Epoch 28/100\n",
      "646/646 [==============================] - 4s 6ms/step - loss: 0.4035 - accuracy: 0.8608 - val_loss: 0.4032 - val_accuracy: 0.8610\n",
      "Epoch 29/100\n",
      "646/646 [==============================] - 5s 8ms/step - loss: 0.4035 - accuracy: 0.8608 - val_loss: 0.4032 - val_accuracy: 0.8610\n",
      "Epoch 30/100\n",
      "646/646 [==============================] - 5s 7ms/step - loss: 0.4035 - accuracy: 0.8608 - val_loss: 0.4032 - val_accuracy: 0.8610\n",
      "Epoch 31/100\n",
      "646/646 [==============================] - 5s 7ms/step - loss: 0.4035 - accuracy: 0.8608 - val_loss: 0.4032 - val_accuracy: 0.8610\n",
      "Epoch 32/100\n",
      "646/646 [==============================] - 5s 8ms/step - loss: 0.4035 - accuracy: 0.8608 - val_loss: 0.4032 - val_accuracy: 0.8610\n",
      "Epoch 33/100\n",
      "646/646 [==============================] - 6s 9ms/step - loss: 0.4035 - accuracy: 0.8608 - val_loss: 0.4032 - val_accuracy: 0.8610\n",
      "Epoch 34/100\n",
      "646/646 [==============================] - 6s 9ms/step - loss: 0.4035 - accuracy: 0.8608 - val_loss: 0.4032 - val_accuracy: 0.8610\n",
      "Epoch 35/100\n",
      "646/646 [==============================] - 5s 8ms/step - loss: 0.4035 - accuracy: 0.8608 - val_loss: 0.4032 - val_accuracy: 0.8610\n",
      "Epoch 36/100\n",
      "646/646 [==============================] - 5s 8ms/step - loss: 0.4035 - accuracy: 0.8608 - val_loss: 0.4032 - val_accuracy: 0.8610\n",
      "Epoch 37/100\n",
      "646/646 [==============================] - 6s 9ms/step - loss: 0.4035 - accuracy: 0.8608 - val_loss: 0.4032 - val_accuracy: 0.8610\n",
      "Epoch 38/100\n",
      "646/646 [==============================] - 5s 8ms/step - loss: 0.4035 - accuracy: 0.8608 - val_loss: 0.4032 - val_accuracy: 0.8610\n",
      "Epoch 39/100\n",
      "646/646 [==============================] - 5s 8ms/step - loss: 0.4035 - accuracy: 0.8608 - val_loss: 0.4032 - val_accuracy: 0.8610\n",
      "Epoch 40/100\n",
      "646/646 [==============================] - 5s 7ms/step - loss: 0.4035 - accuracy: 0.8608 - val_loss: 0.4032 - val_accuracy: 0.8610\n",
      "Epoch 41/100\n",
      "646/646 [==============================] - 6s 9ms/step - loss: 0.4035 - accuracy: 0.8608 - val_loss: 0.4032 - val_accuracy: 0.8610\n",
      "Epoch 42/100\n",
      "646/646 [==============================] - 5s 8ms/step - loss: 0.4035 - accuracy: 0.8608 - val_loss: 0.4032 - val_accuracy: 0.8610\n",
      "Epoch 43/100\n",
      "646/646 [==============================] - 5s 7ms/step - loss: 0.4035 - accuracy: 0.8608 - val_loss: 0.4032 - val_accuracy: 0.8610\n",
      "Epoch 44/100\n",
      "646/646 [==============================] - 5s 7ms/step - loss: 0.4035 - accuracy: 0.8608 - val_loss: 0.4032 - val_accuracy: 0.8610\n",
      "Epoch 45/100\n",
      "646/646 [==============================] - 6s 9ms/step - loss: 0.4035 - accuracy: 0.8608 - val_loss: 0.4032 - val_accuracy: 0.8610\n",
      "Epoch 46/100\n",
      "646/646 [==============================] - 7s 10ms/step - loss: 0.4035 - accuracy: 0.8608 - val_loss: 0.4032 - val_accuracy: 0.8610\n",
      "Epoch 47/100\n",
      "646/646 [==============================] - 7s 11ms/step - loss: 0.4035 - accuracy: 0.8608 - val_loss: 0.4032 - val_accuracy: 0.8610\n",
      "Epoch 48/100\n",
      "646/646 [==============================] - 7s 10ms/step - loss: 0.4035 - accuracy: 0.8608 - val_loss: 0.4032 - val_accuracy: 0.8610\n",
      "Epoch 49/100\n",
      "646/646 [==============================] - 6s 9ms/step - loss: 0.4035 - accuracy: 0.8608 - val_loss: 0.4032 - val_accuracy: 0.8610\n",
      "Epoch 50/100\n",
      "646/646 [==============================] - 6s 9ms/step - loss: 0.4035 - accuracy: 0.8608 - val_loss: 0.4032 - val_accuracy: 0.8610\n",
      "Epoch 51/100\n",
      "646/646 [==============================] - 6s 9ms/step - loss: 0.4035 - accuracy: 0.8608 - val_loss: 0.4032 - val_accuracy: 0.8610\n",
      "Epoch 52/100\n",
      "646/646 [==============================] - 6s 9ms/step - loss: 0.4035 - accuracy: 0.8608 - val_loss: 0.4032 - val_accuracy: 0.8610\n",
      "Epoch 53/100\n",
      "646/646 [==============================] - 5s 7ms/step - loss: 0.4035 - accuracy: 0.8608 - val_loss: 0.4032 - val_accuracy: 0.8610\n",
      "Epoch 54/100\n",
      "646/646 [==============================] - 5s 8ms/step - loss: 0.4035 - accuracy: 0.8608 - val_loss: 0.4032 - val_accuracy: 0.8610\n",
      "Epoch 55/100\n",
      "646/646 [==============================] - 4s 7ms/step - loss: 0.4035 - accuracy: 0.8608 - val_loss: 0.4032 - val_accuracy: 0.8610\n",
      "Epoch 56/100\n",
      "646/646 [==============================] - 4s 6ms/step - loss: 0.4035 - accuracy: 0.8608 - val_loss: 0.4032 - val_accuracy: 0.8610\n",
      "Epoch 57/100\n",
      "646/646 [==============================] - 4s 7ms/step - loss: 0.4035 - accuracy: 0.8608 - val_loss: 0.4032 - val_accuracy: 0.8610\n",
      "Epoch 58/100\n",
      "646/646 [==============================] - 4s 7ms/step - loss: 0.4035 - accuracy: 0.8608 - val_loss: 0.4032 - val_accuracy: 0.8610\n",
      "Epoch 59/100\n",
      "646/646 [==============================] - 4s 7ms/step - loss: 0.4035 - accuracy: 0.8608 - val_loss: 0.4032 - val_accuracy: 0.8610\n",
      "Epoch 60/100\n",
      "646/646 [==============================] - 4s 7ms/step - loss: 0.4035 - accuracy: 0.8608 - val_loss: 0.4032 - val_accuracy: 0.8610\n",
      "Epoch 61/100\n",
      "646/646 [==============================] - 4s 7ms/step - loss: 0.4035 - accuracy: 0.8608 - val_loss: 0.4032 - val_accuracy: 0.8610\n",
      "Epoch 62/100\n",
      "646/646 [==============================] - 4s 6ms/step - loss: 0.4035 - accuracy: 0.8608 - val_loss: 0.4032 - val_accuracy: 0.8610\n",
      "Epoch 63/100\n",
      "646/646 [==============================] - 4s 7ms/step - loss: 0.4035 - accuracy: 0.8608 - val_loss: 0.4032 - val_accuracy: 0.8610\n",
      "Epoch 64/100\n",
      "646/646 [==============================] - 5s 7ms/step - loss: 0.4035 - accuracy: 0.8608 - val_loss: 0.4032 - val_accuracy: 0.8610\n",
      "Epoch 65/100\n",
      "646/646 [==============================] - 4s 7ms/step - loss: 0.4035 - accuracy: 0.8608 - val_loss: 0.4032 - val_accuracy: 0.8610\n",
      "Epoch 66/100\n",
      "646/646 [==============================] - 4s 7ms/step - loss: 0.4035 - accuracy: 0.8608 - val_loss: 0.4032 - val_accuracy: 0.8610\n",
      "Epoch 67/100\n",
      "646/646 [==============================] - 4s 7ms/step - loss: 0.4035 - accuracy: 0.8608 - val_loss: 0.4032 - val_accuracy: 0.8610\n",
      "Epoch 68/100\n",
      "646/646 [==============================] - 4s 6ms/step - loss: 0.4035 - accuracy: 0.8608 - val_loss: 0.4032 - val_accuracy: 0.8610\n",
      "Epoch 69/100\n",
      "646/646 [==============================] - 4s 6ms/step - loss: 0.4035 - accuracy: 0.8608 - val_loss: 0.4032 - val_accuracy: 0.8610\n",
      "Epoch 70/100\n",
      "646/646 [==============================] - 5s 7ms/step - loss: 0.4035 - accuracy: 0.8608 - val_loss: 0.4032 - val_accuracy: 0.8610\n",
      "Epoch 71/100\n",
      "646/646 [==============================] - 4s 7ms/step - loss: 0.4035 - accuracy: 0.8608 - val_loss: 0.4032 - val_accuracy: 0.8610\n",
      "Epoch 72/100\n",
      "646/646 [==============================] - 4s 6ms/step - loss: 0.4035 - accuracy: 0.8608 - val_loss: 0.4032 - val_accuracy: 0.8610\n",
      "Epoch 73/100\n",
      "646/646 [==============================] - 4s 6ms/step - loss: 0.4035 - accuracy: 0.8608 - val_loss: 0.4032 - val_accuracy: 0.8610\n",
      "Epoch 74/100\n",
      "646/646 [==============================] - 4s 7ms/step - loss: 0.4035 - accuracy: 0.8608 - val_loss: 0.4032 - val_accuracy: 0.8610\n",
      "Epoch 75/100\n",
      "646/646 [==============================] - 4s 6ms/step - loss: 0.4035 - accuracy: 0.8608 - val_loss: 0.4032 - val_accuracy: 0.8610\n",
      "Epoch 76/100\n",
      "646/646 [==============================] - 4s 7ms/step - loss: 0.4035 - accuracy: 0.8608 - val_loss: 0.4032 - val_accuracy: 0.8610\n",
      "Epoch 77/100\n",
      "646/646 [==============================] - 4s 6ms/step - loss: 0.4035 - accuracy: 0.8608 - val_loss: 0.4032 - val_accuracy: 0.8610\n",
      "Epoch 78/100\n",
      "646/646 [==============================] - 4s 6ms/step - loss: 0.4035 - accuracy: 0.8608 - val_loss: 0.4032 - val_accuracy: 0.8610\n",
      "Epoch 79/100\n",
      "646/646 [==============================] - 4s 7ms/step - loss: 0.4035 - accuracy: 0.8608 - val_loss: 0.4032 - val_accuracy: 0.8610\n",
      "Epoch 80/100\n",
      "646/646 [==============================] - 4s 7ms/step - loss: 0.4035 - accuracy: 0.8608 - val_loss: 0.4032 - val_accuracy: 0.8610\n",
      "Epoch 81/100\n",
      "646/646 [==============================] - 4s 7ms/step - loss: 0.4035 - accuracy: 0.8608 - val_loss: 0.4032 - val_accuracy: 0.8610\n",
      "Epoch 82/100\n",
      "646/646 [==============================] - 4s 7ms/step - loss: 0.4035 - accuracy: 0.8608 - val_loss: 0.4032 - val_accuracy: 0.8610\n",
      "Epoch 83/100\n",
      "646/646 [==============================] - 4s 7ms/step - loss: 0.4035 - accuracy: 0.8608 - val_loss: 0.4032 - val_accuracy: 0.8610\n",
      "Epoch 84/100\n",
      "646/646 [==============================] - 4s 7ms/step - loss: 0.4035 - accuracy: 0.8608 - val_loss: 0.4032 - val_accuracy: 0.8610\n",
      "Epoch 85/100\n",
      "646/646 [==============================] - 5s 7ms/step - loss: 0.4035 - accuracy: 0.8608 - val_loss: 0.4032 - val_accuracy: 0.8610\n",
      "Epoch 86/100\n",
      "646/646 [==============================] - 5s 8ms/step - loss: 0.4035 - accuracy: 0.8608 - val_loss: 0.4032 - val_accuracy: 0.8610\n",
      "Epoch 87/100\n",
      "646/646 [==============================] - 6s 9ms/step - loss: 0.4035 - accuracy: 0.8608 - val_loss: 0.4032 - val_accuracy: 0.8610\n",
      "Epoch 88/100\n",
      "646/646 [==============================] - 5s 8ms/step - loss: 0.4035 - accuracy: 0.8608 - val_loss: 0.4032 - val_accuracy: 0.8610\n",
      "Epoch 89/100\n",
      "646/646 [==============================] - 6s 9ms/step - loss: 0.4035 - accuracy: 0.8608 - val_loss: 0.4032 - val_accuracy: 0.8610\n",
      "Epoch 90/100\n",
      "646/646 [==============================] - 6s 9ms/step - loss: 0.4035 - accuracy: 0.8608 - val_loss: 0.4032 - val_accuracy: 0.8610\n",
      "Epoch 91/100\n",
      "646/646 [==============================] - 6s 9ms/step - loss: 0.4035 - accuracy: 0.8608 - val_loss: 0.4032 - val_accuracy: 0.8610\n",
      "Epoch 92/100\n",
      "646/646 [==============================] - 4s 7ms/step - loss: 0.4035 - accuracy: 0.8608 - val_loss: 0.4032 - val_accuracy: 0.8610\n",
      "Epoch 93/100\n",
      "646/646 [==============================] - 5s 7ms/step - loss: 0.4035 - accuracy: 0.8608 - val_loss: 0.4032 - val_accuracy: 0.8610\n",
      "Epoch 94/100\n",
      "646/646 [==============================] - 5s 7ms/step - loss: 0.4035 - accuracy: 0.8608 - val_loss: 0.4032 - val_accuracy: 0.8610\n",
      "Epoch 95/100\n",
      "646/646 [==============================] - 4s 7ms/step - loss: 0.4035 - accuracy: 0.8608 - val_loss: 0.4032 - val_accuracy: 0.8610\n",
      "Epoch 96/100\n",
      "646/646 [==============================] - 4s 7ms/step - loss: 0.4035 - accuracy: 0.8608 - val_loss: 0.4032 - val_accuracy: 0.8610\n",
      "Epoch 97/100\n",
      "646/646 [==============================] - 5s 7ms/step - loss: 0.4035 - accuracy: 0.8608 - val_loss: 0.4032 - val_accuracy: 0.8610\n",
      "Epoch 98/100\n",
      "646/646 [==============================] - 5s 7ms/step - loss: 0.4035 - accuracy: 0.8608 - val_loss: 0.4032 - val_accuracy: 0.8610\n",
      "Epoch 99/100\n",
      "646/646 [==============================] - 5s 7ms/step - loss: 0.4035 - accuracy: 0.8608 - val_loss: 0.4032 - val_accuracy: 0.8610\n",
      "Epoch 100/100\n",
      "646/646 [==============================] - 5s 7ms/step - loss: 0.4035 - accuracy: 0.8608 - val_loss: 0.4032 - val_accuracy: 0.8610\n"
     ]
    }
   ],
   "source": [
    "base_model = model.fit(train_img,\n",
    "                    train_y,\n",
    "                    epochs=100,\n",
    "                    batch_size=40,\n",
    "                    validation_data=(val_img, val_y))#,\n",
    "                    # callbacks=callbacks)"
   ]
  },
  {
   "cell_type": "code",
   "execution_count": null,
   "id": "93f056bf-2d2f-44af-8059-24a494f7bd05",
   "metadata": {},
   "outputs": [],
   "source": []
  },
  {
   "cell_type": "code",
   "execution_count": 56,
   "id": "74cf741c-8cb7-4b07-ad9d-ed5273c59a13",
   "metadata": {},
   "outputs": [
    {
     "name": "stdout",
     "output_type": "stream",
     "text": [
      "Model: \"sequential\"\n",
      "_________________________________________________________________\n",
      "Layer (type)                 Output Shape              Param #   \n",
      "=================================================================\n",
      "dense (Dense)                (None, 20)                138260    \n",
      "_________________________________________________________________\n",
      "dense_1 (Dense)              (None, 7)                 147       \n",
      "_________________________________________________________________\n",
      "dense_2 (Dense)              (None, 5)                 40        \n",
      "_________________________________________________________________\n",
      "dense_3 (Dense)              (None, 1)                 6         \n",
      "=================================================================\n",
      "Total params: 138,453\n",
      "Trainable params: 138,453\n",
      "Non-trainable params: 0\n",
      "_________________________________________________________________\n"
     ]
    }
   ],
   "source": [
    "model.summary()"
   ]
  },
  {
   "cell_type": "code",
   "execution_count": 57,
   "id": "15045990-9ad4-4912-a949-193c2fadd57b",
   "metadata": {},
   "outputs": [
    {
     "name": "stdout",
     "output_type": "stream",
     "text": [
      "808/808 [==============================] - 19s 23ms/step - loss: 0.4034 - accuracy: 0.8608\n"
     ]
    },
    {
     "data": {
      "text/plain": [
       "[0.40344563126564026, 0.8608314990997314]"
      ]
     },
     "execution_count": 57,
     "metadata": {},
     "output_type": "execute_result"
    }
   ],
   "source": [
    "model.evaluate(train_img, train_y)"
   ]
  },
  {
   "cell_type": "code",
   "execution_count": 58,
   "id": "da9af28e-02c9-47f9-9500-66dce0ac5e15",
   "metadata": {},
   "outputs": [
    {
     "name": "stdout",
     "output_type": "stream",
     "text": [
      "225/225 [==============================] - 5s 24ms/step - loss: 0.3930 - accuracy: 0.8665 0s - loss: 0.3911 - accu\n"
     ]
    },
    {
     "data": {
      "text/plain": [
       "[0.39304864406585693, 0.8665366172790527]"
      ]
     },
     "execution_count": 58,
     "metadata": {},
     "output_type": "execute_result"
    }
   ],
   "source": [
    "model.evaluate(test_img, test_y)"
   ]
  },
  {
   "cell_type": "code",
   "execution_count": null,
   "id": "c856c2f2-23f9-413e-8f20-35acae9cf2fa",
   "metadata": {},
   "outputs": [],
   "source": []
  },
  {
   "cell_type": "code",
   "execution_count": null,
   "id": "8266d10d-9f75-4875-a316-bda232383cad",
   "metadata": {},
   "outputs": [],
   "source": []
  },
  {
   "cell_type": "code",
   "execution_count": null,
   "id": "6c17b0ef-10c9-4030-90d0-a68cc6454529",
   "metadata": {},
   "outputs": [],
   "source": []
  },
  {
   "cell_type": "code",
   "execution_count": null,
   "id": "c735d6b1-ad9e-4fef-8d0e-aedf9ff03999",
   "metadata": {},
   "outputs": [],
   "source": []
  },
  {
   "cell_type": "code",
   "execution_count": null,
   "id": "92276f73-73cc-4485-9719-982bfc86bddb",
   "metadata": {},
   "outputs": [],
   "source": []
  },
  {
   "cell_type": "code",
   "execution_count": null,
   "id": "a66b0cd8-3347-4900-a218-ba76b808e687",
   "metadata": {},
   "outputs": [],
   "source": []
  },
  {
   "cell_type": "code",
   "execution_count": null,
   "id": "60a3ac1c-58c5-4d65-a8b0-8cdd7b1ecc2b",
   "metadata": {},
   "outputs": [],
   "source": []
  },
  {
   "cell_type": "code",
   "execution_count": null,
   "id": "99df9ea0-164e-444f-9ae2-255401b033ce",
   "metadata": {},
   "outputs": [],
   "source": []
  },
  {
   "cell_type": "code",
   "execution_count": null,
   "id": "27a9e721-5afd-4959-be01-c7ea3a33ab6e",
   "metadata": {},
   "outputs": [],
   "source": []
  },
  {
   "cell_type": "code",
   "execution_count": null,
   "id": "2477534e-dd6a-4594-bd91-170e954449f3",
   "metadata": {},
   "outputs": [],
   "source": []
  },
  {
   "cell_type": "code",
   "execution_count": null,
   "id": "aaa770fa-7b7f-4cd3-8c9b-66104e1fb085",
   "metadata": {},
   "outputs": [],
   "source": []
  },
  {
   "cell_type": "code",
   "execution_count": null,
   "id": "373cf405-248c-49c2-b092-b750caf62578",
   "metadata": {},
   "outputs": [],
   "source": []
  },
  {
   "cell_type": "code",
   "execution_count": null,
   "id": "02715a36-855c-401d-a105-8a4af2630614",
   "metadata": {},
   "outputs": [],
   "source": []
  },
  {
   "cell_type": "code",
   "execution_count": null,
   "id": "5a70dc21-29c6-4383-b900-3fc531593ffd",
   "metadata": {},
   "outputs": [],
   "source": []
  }
 ],
 "metadata": {
  "kernelspec": {
   "display_name": "Python (learn-env)",
   "language": "python",
   "name": "learn-env"
  },
  "language_info": {
   "codemirror_mode": {
    "name": "ipython",
    "version": 3
   },
   "file_extension": ".py",
   "mimetype": "text/x-python",
   "name": "python",
   "nbconvert_exporter": "python",
   "pygments_lexer": "ipython3",
   "version": "3.8.5"
  }
 },
 "nbformat": 4,
 "nbformat_minor": 5
}
